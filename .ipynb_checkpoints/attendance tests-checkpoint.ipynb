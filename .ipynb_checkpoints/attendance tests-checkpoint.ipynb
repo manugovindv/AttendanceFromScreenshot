{
 "cells": [
  {
   "cell_type": "code",
   "execution_count": 17,
   "metadata": {},
   "outputs": [],
   "source": [
    "import pytesseract\n",
    "import pandas as pd"
   ]
  },
  {
   "cell_type": "code",
   "execution_count": 18,
   "metadata": {},
   "outputs": [],
   "source": [
    "pytesseract.pytesseract.tesseract_cmd = r'D:\\Tesseract\\tesseract'\n",
    "p=pytesseract.image_to_string(r'D:\\Programs\\Python\\attendance\\list.png')"
   ]
  },
  {
   "cell_type": "code",
   "execution_count": 19,
   "metadata": {},
   "outputs": [
    {
     "name": "stdout",
     "output_type": "stream",
     "text": [
      "18GAEM9071 Sanketh Patil (me)\n",
      "\n",
      "DR. Hanumantharaju HG (Host)\n",
      "\n",
      "18GAEM9037 (Kishore N)\n",
      "\n",
      "(18GAEM9025) Dheeraj Mahaveer Hireku...\n",
      "\n",
      "(18GAEM9031)GOWTHAM V S\n",
      "\n",
      "(18GAEM9051)MOKSHAJHNA N\n",
      "\n",
      "(18GAEM9054)NAVEEN KUMARCS..\n",
      "\n",
      "(19GAMEC107)Prajwal K A\n",
      "\n",
      "(19GAMEC111)Sanjay S\n",
      "\n",
      "[18GAEM9028] G YOGESH\n",
      "\n",
      "18GAEM9004_AKASH M G\n",
      "\n",
      "18GAEM9006 Akshay Bhosale\n",
      "\n",
      "18GAEM9009-Anoop Rao GN\n",
      "\n",
      "18GAEM9014 (Basagouda Patil)\n",
      "\n",
      "18GAEM9015(Basaveshwar Gharabude)\n",
      "\n",
      "18GAEM9017-Chaitanya Kumar\n",
      "\n",
      "18GAEM9021 darshan\n",
      "\n",
      "18GAEM9023 DHANARAJ PRABHU\n",
      "\n",
      "18GAEM9024 Dhanasekaran G\n",
      "\n",
      "18GAEM9027 DINUP\n",
      "\n",
      "18GAEM9029 GAGAN.S\n",
      "\n",
      "18GAEM9030 (GOWRAV N)\n",
      "\n",
      "18GAEM9039 Lavakumar N\n",
      "\n",
      "18GAEM9040(Lohith B)\n",
      "\n",
      "18GAEM9046 Manohar A Poojar\n",
      "\n",
      "18GAEM9048 Manu Govind V\n",
      "\n",
      "18GAEM9052-MUIZZ\n",
      "\n",
      "18GAEM9056 PAVAN KUMAR\n",
      "\n",
      "18GAEM9058(PRAJWAL P MARATHE)\n",
      "\n",
      "18GAEM9066 (SACHIN)\n",
      "\n",
      "18GAEM9070 SANDEEP RAJ V\n",
      "\n",
      "18GAEM9072(sathish kumar v)\n",
      "\n",
      "18GAEM9073 Shanthkumar B\n",
      "\n",
      "18GAEM9074 - Sharath s\n",
      "\n",
      "18GAEM9075 Shashank.B.S\n",
      "\n",
      "18GAEM9080 SRINIDHI PS\n",
      "\n",
      "18GAEM9082 (Subrahmanya)\n",
      "\n",
      "18GAEM9084 (Sunil R)\n",
      "\n",
      "18GAEM9086 (Tanay C)\n",
      "\n",
      "18gaem9089 vakesan m\n",
      "\n",
      "18GAEM9090 VANLALNUNPUIA\n",
      "\n",
      "18GAEM9091(Varun s)\n",
      "\n",
      "18GAEM9095 viresh | Lali\n",
      "\n",
      "18GAEM9097 YASHWANTH KUMAR\n",
      "\n",
      "19GAMEC104 (Annesh Gurav)\n",
      "\n",
      "19GAMEC110 (Ramesh Banakar)\n",
      "\n",
      "19GAMEC112 Sunil Kumar\n",
      "\n",
      "Abdul Rasheed\n",
      "\n",
      "Anand Kamatar\n",
      "\n",
      "Keshawa murthy K (18GAEM9035)\n",
      "\n",
      "nagendra s\n",
      "\n",
      "Nagesh R (19GAMEC106)\n",
      "\n",
      "pannaga k p\n",
      "\n",
      "Prathyusha P\n",
      "\n",
      "S Supriya\n",
      "\n",
      "Sachin Somannavar\n",
      "\n",
      "Shivakumar Ulli\n",
      "\n",
      "Vinay\n",
      "\n",
      "18GAEM9016 Bhargava Theja\n",
      "\f",
      "\n"
     ]
    }
   ],
   "source": [
    "print(p)"
   ]
  },
  {
   "cell_type": "code",
   "execution_count": 20,
   "metadata": {},
   "outputs": [
    {
     "name": "stdout",
     "output_type": "stream",
     "text": [
      "['18GAEM9071', 'Sanketh', 'Patil', 'me', 'DR.', 'Hanumantharaju', 'HG', 'Host', '18GAEM9037', 'Kishore', 'N', '18GAEM9025', 'Dheeraj', 'Mahaveer', 'Hireku...', '18GAEM9031', 'GOWTHAM', 'V', 'S', '18GAEM9051', 'MOKSHAJHNA', 'N', '18GAEM9054', 'NAVEEN', 'KUMARCS..', '19GAMEC107', 'Prajwal', 'K', 'A', '19GAMEC111', 'Sanjay', 'S', '18GAEM9028', 'G', 'YOGESH', '18GAEM9004', 'AKASH', 'M', 'G', '18GAEM9006', 'Akshay', 'Bhosale', '18GAEM9009', 'Anoop', 'Rao', 'GN', '18GAEM9014', 'Basagouda', 'Patil', '18GAEM9015', 'Basaveshwar', 'Gharabude', '18GAEM9017', 'Chaitanya', 'Kumar', '18GAEM9021', 'darshan', '18GAEM9023', 'DHANARAJ', 'PRABHU', '18GAEM9024', 'Dhanasekaran', 'G', '18GAEM9027', 'DINUP', '18GAEM9029', 'GAGAN.S', '18GAEM9030', 'GOWRAV', 'N', '18GAEM9039', 'Lavakumar', 'N', '18GAEM9040', 'Lohith', 'B', '18GAEM9046', 'Manohar', 'A', 'Poojar', '18GAEM9048', 'Manu', 'Govind', 'V', '18GAEM9052', 'MUIZZ', '18GAEM9056', 'PAVAN', 'KUMAR', '18GAEM9058', 'PRAJWAL', 'P', 'MARATHE', '18GAEM9066', 'SACHIN', '18GAEM9070', 'SANDEEP', 'RAJ', 'V', '18GAEM9072', 'sathish', 'kumar', 'v', '18GAEM9073', 'Shanthkumar', 'B', '18GAEM9074', 'Sharath', 's', '18GAEM9075', 'Shashank.B.S', '18GAEM9080', 'SRINIDHI', 'PS', '18GAEM9082', 'Subrahmanya', '18GAEM9084', 'Sunil', 'R', '18GAEM9086', 'Tanay', 'C', '18gaem9089', 'vakesan', 'm', '18GAEM9090', 'VANLALNUNPUIA', '18GAEM9091', 'Varun', 's', '18GAEM9095', 'viresh', '|', 'Lali', '18GAEM9097', 'YASHWANTH', 'KUMAR', '19GAMEC104', 'Annesh', 'Gurav', '19GAMEC110', 'Ramesh', 'Banakar', '19GAMEC112', 'Sunil', 'Kumar', 'Abdul', 'Rasheed', 'Anand', 'Kamatar', 'Keshawa', 'murthy', 'K', '18GAEM9035', 'nagendra', 's', 'Nagesh', 'R', '19GAMEC106', 'pannaga', 'k', 'p', 'Prathyusha', 'P', 'S', 'Supriya', 'Sachin', 'Somannavar', 'Shivakumar', 'Ulli', 'Vinay', '18GAEM9016', 'Bhargava', 'Theja']\n"
     ]
    }
   ],
   "source": [
    "p=p.replace(\"(\",\" \")\n",
    "p=p.replace(\")\",\" \")\n",
    "p=p.replace(\"[\",\" \")\n",
    "p=p.replace(\"]\",\" \")\n",
    "p=p.replace(\"-\",\" \")\n",
    "p=p.replace(\"_\",\" \")\n",
    "a=p.split()\n",
    "type(a)\n",
    "print(a)"
   ]
  },
  {
   "cell_type": "code",
   "execution_count": 21,
   "metadata": {},
   "outputs": [],
   "source": [
    "res=\"\"\n",
    "for i in a:\n",
    "    i=i.upper()\n",
    "    if i.startswith(\"18\"):\n",
    "        res=res+\" \"+i\n",
    "for i in a:\n",
    "    i=i.upper()\n",
    "    if i.startswith(\"19\"):\n",
    "        res=res+\" \"+i        "
   ]
  },
  {
   "cell_type": "code",
   "execution_count": 22,
   "metadata": {},
   "outputs": [
    {
     "name": "stdout",
     "output_type": "stream",
     "text": [
      " 18GAEM9071 18GAEM9037 18GAEM9025 18GAEM9031 18GAEM9051 18GAEM9054 18GAEM9028 18GAEM9004 18GAEM9006 18GAEM9009 18GAEM9014 18GAEM9015 18GAEM9017 18GAEM9021 18GAEM9023 18GAEM9024 18GAEM9027 18GAEM9029 18GAEM9030 18GAEM9039 18GAEM9040 18GAEM9046 18GAEM9048 18GAEM9052 18GAEM9056 18GAEM9058 18GAEM9066 18GAEM9070 18GAEM9072 18GAEM9073 18GAEM9074 18GAEM9075 18GAEM9080 18GAEM9082 18GAEM9084 18GAEM9086 18GAEM9089 18GAEM9090 18GAEM9091 18GAEM9095 18GAEM9097 18GAEM9035 18GAEM9016 19GAMEC107 19GAMEC111 19GAMEC104 19GAMEC110 19GAMEC112 19GAMEC106\n"
     ]
    }
   ],
   "source": [
    "print(res)"
   ]
  },
  {
   "cell_type": "code",
   "execution_count": 23,
   "metadata": {},
   "outputs": [
    {
     "data": {
      "text/plain": [
       "str"
      ]
     },
     "execution_count": 23,
     "metadata": {},
     "output_type": "execute_result"
    }
   ],
   "source": [
    "type(res)"
   ]
  },
  {
   "cell_type": "code",
   "execution_count": 24,
   "metadata": {},
   "outputs": [
    {
     "name": "stdout",
     "output_type": "stream",
     "text": [
      "['18GAEM9071', '18GAEM9037', '18GAEM9025', '18GAEM9031', '18GAEM9051', '18GAEM9054', '18GAEM9028', '18GAEM9004', '18GAEM9006', '18GAEM9009', '18GAEM9014', '18GAEM9015', '18GAEM9017', '18GAEM9021', '18GAEM9023', '18GAEM9024', '18GAEM9027', '18GAEM9029', '18GAEM9030', '18GAEM9039', '18GAEM9040', '18GAEM9046', '18GAEM9048', '18GAEM9052', '18GAEM9056', '18GAEM9058', '18GAEM9066', '18GAEM9070', '18GAEM9072', '18GAEM9073', '18GAEM9074', '18GAEM9075', '18GAEM9080', '18GAEM9082', '18GAEM9084', '18GAEM9086', '18GAEM9089', '18GAEM9090', '18GAEM9091', '18GAEM9095', '18GAEM9097', '18GAEM9035', '18GAEM9016', '19GAMEC107', '19GAMEC111', '19GAMEC104', '19GAMEC110', '19GAMEC112', '19GAMEC106']\n"
     ]
    },
    {
     "data": {
      "text/plain": [
       "list"
      ]
     },
     "execution_count": 24,
     "metadata": {},
     "output_type": "execute_result"
    }
   ],
   "source": [
    "res=res.split()\n",
    "print(res)\n",
    "type(res)"
   ]
  },
  {
   "cell_type": "code",
   "execution_count": 28,
   "metadata": {
    "scrolled": true
   },
   "outputs": [
    {
     "data": {
      "text/plain": [
       "['18GAEM9004',\n",
       " '18GAEM9006',\n",
       " '18GAEM9009',\n",
       " '18GAEM9014',\n",
       " '18GAEM9015',\n",
       " '18GAEM9016',\n",
       " '18GAEM9017',\n",
       " '18GAEM9021',\n",
       " '18GAEM9023',\n",
       " '18GAEM9024',\n",
       " '18GAEM9025',\n",
       " '18GAEM9027',\n",
       " '18GAEM9028',\n",
       " '18GAEM9029',\n",
       " '18GAEM9030',\n",
       " '18GAEM9031',\n",
       " '18GAEM9035',\n",
       " '18GAEM9037',\n",
       " '18GAEM9039',\n",
       " '18GAEM9040',\n",
       " '18GAEM9046',\n",
       " '18GAEM9048',\n",
       " '18GAEM9051',\n",
       " '18GAEM9052',\n",
       " '18GAEM9054',\n",
       " '18GAEM9056',\n",
       " '18GAEM9058',\n",
       " '18GAEM9066',\n",
       " '18GAEM9070',\n",
       " '18GAEM9071',\n",
       " '18GAEM9072',\n",
       " '18GAEM9073',\n",
       " '18GAEM9074',\n",
       " '18GAEM9075',\n",
       " '18GAEM9080',\n",
       " '18GAEM9082',\n",
       " '18GAEM9084',\n",
       " '18GAEM9086',\n",
       " '18GAEM9089',\n",
       " '18GAEM9090',\n",
       " '18GAEM9091',\n",
       " '18GAEM9095',\n",
       " '18GAEM9097',\n",
       " '19GAMEC104',\n",
       " '19GAMEC106',\n",
       " '19GAMEC107',\n",
       " '19GAMEC110',\n",
       " '19GAMEC111',\n",
       " '19GAMEC112']"
      ]
     },
     "execution_count": 28,
     "metadata": {},
     "output_type": "execute_result"
    }
   ],
   "source": [
    "sorted(res,key = lambda x:int(x[-3:]))\n"
   ]
  },
  {
   "cell_type": "code",
   "execution_count": 29,
   "metadata": {},
   "outputs": [],
   "source": [
    "import pandas as pd\n",
    "df = pd.DataFrame(res)\n",
    "df.to_csv('file2.csv', index=False, header=False)"
   ]
  },
  {
   "cell_type": "code",
   "execution_count": null,
   "metadata": {},
   "outputs": [],
   "source": []
  }
 ],
 "metadata": {
  "kernelspec": {
   "display_name": "Python 3",
   "language": "python",
   "name": "python3"
  },
  "language_info": {
   "codemirror_mode": {
    "name": "ipython",
    "version": 3
   },
   "file_extension": ".py",
   "mimetype": "text/x-python",
   "name": "python",
   "nbconvert_exporter": "python",
   "pygments_lexer": "ipython3",
   "version": "3.8.3"
  }
 },
 "nbformat": 4,
 "nbformat_minor": 4
}
